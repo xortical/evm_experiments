{
 "cells": [
  {
   "cell_type": "code",
   "execution_count": 1,
   "metadata": {},
   "outputs": [],
   "source": [
    "#!pip install imageio-ffmpeg"
   ]
  },
  {
   "cell_type": "code",
   "execution_count": 34,
   "metadata": {},
   "outputs": [],
   "source": [
    "from skimage import img_as_float\n",
    "from imageio import get_reader, get_writer\n",
    "import skimage.transform as sktransform\n",
    "from numpy import asarray, array\n",
    "from numpy.linalg import inv\n",
    "import numpy as np\n",
    "import matplotlib.pyplot as plt\n",
    "from PIL import Image, ImageFilter\n",
    "import cv2\n",
    "\n",
    "\n",
    "from mpl_point_clicker import clicker\n",
    "\n",
    "from IPython.display import display, Image\n",
    "import ipywidgets as widgets\n",
    "import threading\n"
   ]
  },
  {
   "cell_type": "code",
   "execution_count": 35,
   "metadata": {},
   "outputs": [],
   "source": [
    "#convert RBG to YIQ\n",
    "def rgb2ntsc(src):\n",
    "    [rows,cols]=src.shape[:2]\n",
    "    dst=np.zeros((rows,cols,3),dtype=np.float64)\n",
    "    T = np.array([[0.114, 0.587, 0.298], [-0.321, -0.275, 0.596], [0.311, -0.528, 0.212]])\n",
    "    for i in range(rows):\n",
    "        for j in range(cols):\n",
    "            dst[i, j]=np.dot(T,src[i,j])\n",
    "    return dst\n",
    "\n",
    "#convert YIQ to RBG\n",
    "def ntsc2rbg(src):\n",
    "    [rows, cols] = src.shape[:2]\n",
    "    dst=np.zeros((rows,cols,3),dtype=np.float64)\n",
    "    T = np.array([[1, -1.108, 1.705], [1, -0.272, -0.647], [1, 0.956, 0.620]])\n",
    "    for i in range(rows):\n",
    "        for j in range(cols):\n",
    "            dst[i, j]=np.dot(T,src[i,j])\n",
    "    return dst\n",
    "\n"
   ]
  },
  {
   "cell_type": "code",
   "execution_count": 36,
   "metadata": {},
   "outputs": [],
   "source": [
    "\n",
    "def load_video(filename):\n",
    "    reader = get_reader(filename)\n",
    "    orig_vid = []\n",
    "    for i, im in enumerate(reader):\n",
    "        orig_vid.append(im)\n",
    "    return asarray(orig_vid)\n",
    "\n",
    "def write_video(video, fps, name):\n",
    "    writer = get_writer(name, fps=fps)\n",
    "    for i in range(video.shape[0]):\n",
    "        writer.append_data(video[i])\n",
    "    writer.close()\n"
   ]
  },
  {
   "cell_type": "code",
   "execution_count": 37,
   "metadata": {},
   "outputs": [],
   "source": [
    "#Build Gaussian Pyramid\n",
    "def build_gaussian_pyramid(src,level=3):\n",
    "    s=src.copy()\n",
    "    pyramid=[s]\n",
    "    for i in range(level):\n",
    "        s=cv2.pyrDown(s)\n",
    "        pyramid.append(s)\n",
    "    return pyramid"
   ]
  },
  {
   "cell_type": "code",
   "execution_count": 38,
   "metadata": {},
   "outputs": [],
   "source": [
    "#Build Laplacian Pyramid\n",
    "def build_laplacian_pyramid(src,levels=3):\n",
    "    \n",
    "    pyramid=[]\n",
    "    gaussianPyramid = build_gaussian_pyramid(src, levels)\n",
    "        \n",
    "    for i in range(levels,0,-1):\n",
    "        GE=cv2.pyrUp(gaussianPyramid[i])\n",
    "        L=cv2.subtract(gaussianPyramid[i-1],GE)\n",
    "        pyramid.append(L)\n",
    "    return pyramid\n",
    "\n"
   ]
  },
  {
   "cell_type": "code",
   "execution_count": 39,
   "metadata": {},
   "outputs": [],
   "source": [
    "# Show users the frame and ask them to choose ROI\n",
    "def ROI_choice(video):\n",
    "    # display a frame of the video, ask user to input ROI by mouse click\n",
    "    # return the yiq version of the ROI\n",
    "    pass"
   ]
  },
  {
   "cell_type": "code",
   "execution_count": 40,
   "metadata": {},
   "outputs": [],
   "source": [
    "video_file = \"after.mp4\""
   ]
  },
  {
   "cell_type": "code",
   "execution_count": 41,
   "metadata": {},
   "outputs": [],
   "source": [
    "video = load_video(video_file)\n",
    "face_cascade = cv2.CascadeClassifier('haarcascade_frontalface_default.xml')\n"
   ]
  },
  {
   "cell_type": "code",
   "execution_count": 42,
   "metadata": {},
   "outputs": [],
   "source": [
    "num_frames, h, w, num_channels = video.shape\n",
    "#num_frames = 500"
   ]
  },
  {
   "cell_type": "code",
   "execution_count": 43,
   "metadata": {},
   "outputs": [
    {
     "data": {
      "text/plain": [
       "288"
      ]
     },
     "execution_count": 43,
     "metadata": {},
     "output_type": "execute_result"
    }
   ],
   "source": [
    "num_frames"
   ]
  },
  {
   "cell_type": "code",
   "execution_count": 46,
   "metadata": {},
   "outputs": [],
   "source": [
    "ystart = int(klicker.get_positions()[\"event\"][0][1])\n",
    "yend = int(klicker.get_positions()[\"event\"][2][1])\n",
    "xstart = int(klicker.get_positions()[\"event\"][0][0])\n",
    "xend=int(klicker.get_positions()[\"event\"][1][0])\n",
    "\n",
    "h_crop = yend-ystart\n",
    "w_crop = xend-xstart\n",
    "\n",
    "#convert video to yiq\n",
    "video_yiq = np.zeros((num_frames,h_crop,w_crop,num_channels))\n",
    "\n",
    "for frame in range(num_frames):\n",
    "    video_yiq[frame] = rgb2ntsc(video[frame][ystart:yend,xstart:xend])\n",
    "    "
   ]
  },
  {
   "cell_type": "code",
   "execution_count": 47,
   "metadata": {},
   "outputs": [],
   "source": [
    "#Construct gaussian levels\n",
    "pyramid=[]\n",
    "levels = 3\n",
    "l0 = []\n",
    "l1 =[]\n",
    "l2=[]\n",
    "l3=[]\n",
    "for frames in range(num_frames):\n",
    "    \n",
    "    gaussianPyramid = build_gaussian_pyramid(video_yiq[frames], levels)\n",
    "    \n",
    "    l0.append(video[frames][ystart:yend,xstart:xend])\n",
    "    l1.append(gaussianPyramid[0])\n",
    "    l2.append(gaussianPyramid[1])\n",
    "    l3.append(gaussianPyramid[2])\n"
   ]
  },
  {
   "cell_type": "code",
   "execution_count": 48,
   "metadata": {},
   "outputs": [
    {
     "data": {
      "text/plain": [
       "(127, 328, 3)"
      ]
     },
     "execution_count": 48,
     "metadata": {},
     "output_type": "execute_result"
    }
   ],
   "source": [
    "# l1 is the original in ntsc color scheme\n",
    "# l0 is the original in rgb color scheme\n",
    "l1[0].shape"
   ]
  },
  {
   "cell_type": "code",
   "execution_count": 49,
   "metadata": {},
   "outputs": [],
   "source": [
    "px_0 = np.zeros(num_frames)\n",
    "px_1 = np.zeros(num_frames)\n",
    "px_2 =np.zeros(num_frames)\n",
    "px_3 =np.zeros(num_frames)\n",
    "\n",
    "\n",
    "for frame in range(num_frames):\n",
    "    \n",
    "    px_0[frame] = np.average(l0[frame])\n",
    "    px_1[frame] = np.average(l1[frame])\n",
    "    px_2[frame] = np.average(l2[frame])\n",
    "    px_3[frame] = np.average(l3[frame])\n",
    "    \n",
    "    \n",
    "    #px_R[frame] = video[frame][600:601,450:451][0][0][0]\n",
    "   # px_G[frame] = video[frame][600:601,450:451][0][0][1]\n",
    "    #px_B[frame] = video[frame][600:601,450:451][0][0][2]\n",
    "    "
   ]
  },
  {
   "cell_type": "code",
   "execution_count": 50,
   "metadata": {},
   "outputs": [
    {
     "data": {
      "text/plain": [
       "[<matplotlib.lines.Line2D at 0x16838a83648>]"
      ]
     },
     "execution_count": 50,
     "metadata": {},
     "output_type": "execute_result"
    },
    {
     "data": {
      "image/png": "[encoded data removed]",
      "text/plain": [
       "<Figure size 432x288 with 1 Axes>"
      ]
     },
     "metadata": {
      "needs_background": "light"
     },
     "output_type": "display_data"
    }
   ],
   "source": [
    "%matplotlib inline\n",
    "plt.plot(px_1,'g')\n",
    "plt.plot(px_2,'k')\n",
    "plt.plot(px_3,'b')\n"
   ]
  },
  {
   "cell_type": "markdown",
   "metadata": {},
   "source": [
    "# Detrend and normalize"
   ]
  },
  {
   "cell_type": "code",
   "execution_count": 51,
   "metadata": {},
   "outputs": [],
   "source": [
    "import scipy"
   ]
  },
  {
   "cell_type": "code",
   "execution_count": 52,
   "metadata": {},
   "outputs": [],
   "source": [
    "from scipy import sparse\n",
    "\n",
    "def advance_detrend(signal, lam = 10):\n",
    "    T = len(signal)\n",
    "    I  = np.identity(T)\n",
    "\n",
    "    filt = [1,-2,1]* np.ones((1,T-2),dtype=np.int).T\n",
    "    D2 = sparse.spdiags(filt.T, (range(0,3)),T-2,T)\n",
    "\n",
    "    # detrend_sig = (I - np.linalg.inv(I + lam**2*D2.T*D2))@signal\n",
    "    trend = (np.linalg.inv(I + lam**2*D2.T*D2))@signal\n",
    "    detrend_sig = np.squeeze(np.array(signal - trend))\n",
    "    trend = np.squeeze(np.array(trend))\n",
    "    return detrend_sig, trend"
   ]
  },
  {
   "cell_type": "code",
   "execution_count": 53,
   "metadata": {},
   "outputs": [],
   "source": [
    "# normalization section\n",
    "def normalizeToUnitVariance(sig):\n",
    "    normalized = (sig - np.mean(sig))/np.std(sig)\n",
    "    return normalized"
   ]
  },
  {
   "cell_type": "code",
   "execution_count": 54,
   "metadata": {},
   "outputs": [
    {
     "name": "stderr",
     "output_type": "stream",
     "text": [
      "C:\\Users\\Smart\\Anaconda3\\lib\\site-packages\\ipykernel_launcher.py:7: DeprecationWarning: `np.int` is a deprecated alias for the builtin `int`. To silence this warning, use `int` by itself. Doing this will not modify any behavior and is safe. When replacing `np.int`, you may wish to use e.g. `np.int64` or `np.int32` to specify the precision. If you wish to review your current use, check the release note link for additional information.\n",
      "Deprecated in NumPy 1.20; for more details and guidance: https://numpy.org/devdocs/release/1.20.0-notes.html#deprecations\n",
      "  import sys\n"
     ]
    }
   ],
   "source": [
    "sig,trend = advance_detrend(px_1)\n"
   ]
  },
  {
   "cell_type": "code",
   "execution_count": 55,
   "metadata": {},
   "outputs": [
    {
     "data": {
      "text/plain": [
       "[<matplotlib.lines.Line2D at 0x16838ae64c8>]"
      ]
     },
     "execution_count": 55,
     "metadata": {},
     "output_type": "execute_result"
    },
    {
     "data": {
      "image/png": "[encoded data removed]",
      "text/plain": [
       "<Figure size 432x288 with 1 Axes>"
      ]
     },
     "metadata": {
      "needs_background": "light"
     },
     "output_type": "display_data"
    }
   ],
   "source": [
    "truncated_sig = sig[:int(0.8*len(sig))] #take 80% of the data\n",
    "plt.plot(truncated_sig) "
   ]
  },
  {
   "cell_type": "markdown",
   "metadata": {},
   "source": [
    "# Convert pixel data to pandas dataframe"
   ]
  },
  {
   "cell_type": "code",
   "execution_count": 56,
   "metadata": {},
   "outputs": [],
   "source": [
    "import pandas as pd"
   ]
  },
  {
   "cell_type": "code",
   "execution_count": 57,
   "metadata": {},
   "outputs": [],
   "source": [
    "\n",
    "df1 = pd.DataFrame(truncated_sig,columns=['orig'])"
   ]
  },
  {
   "cell_type": "code",
   "execution_count": 58,
   "metadata": {},
   "outputs": [
    {
     "data": {
      "text/html": [
       "<div>\n",
       "<style scoped>\n",
       "    .dataframe tbody tr th:only-of-type {\n",
       "        vertical-align: middle;\n",
       "    }\n",
       "\n",
       "    .dataframe tbody tr th {\n",
       "        vertical-align: top;\n",
       "    }\n",
       "\n",
       "    .dataframe thead th {\n",
       "        text-align: right;\n",
       "    }\n",
       "</style>\n",
       "<table border=\"1\" class=\"dataframe\">\n",
       "  <thead>\n",
       "    <tr style=\"text-align: right;\">\n",
       "      <th></th>\n",
       "      <th>orig</th>\n",
       "    </tr>\n",
       "  </thead>\n",
       "  <tbody>\n",
       "    <tr>\n",
       "      <th>0</th>\n",
       "      <td>-0.153760</td>\n",
       "    </tr>\n",
       "    <tr>\n",
       "      <th>1</th>\n",
       "      <td>0.538295</td>\n",
       "    </tr>\n",
       "    <tr>\n",
       "      <th>2</th>\n",
       "      <td>-0.096141</td>\n",
       "    </tr>\n",
       "    <tr>\n",
       "      <th>3</th>\n",
       "      <td>0.386423</td>\n",
       "    </tr>\n",
       "    <tr>\n",
       "      <th>4</th>\n",
       "      <td>0.062956</td>\n",
       "    </tr>\n",
       "    <tr>\n",
       "      <th>...</th>\n",
       "      <td>...</td>\n",
       "    </tr>\n",
       "    <tr>\n",
       "      <th>225</th>\n",
       "      <td>0.587053</td>\n",
       "    </tr>\n",
       "    <tr>\n",
       "      <th>226</th>\n",
       "      <td>0.299325</td>\n",
       "    </tr>\n",
       "    <tr>\n",
       "      <th>227</th>\n",
       "      <td>0.166123</td>\n",
       "    </tr>\n",
       "    <tr>\n",
       "      <th>228</th>\n",
       "      <td>-0.077864</td>\n",
       "    </tr>\n",
       "    <tr>\n",
       "      <th>229</th>\n",
       "      <td>-0.477920</td>\n",
       "    </tr>\n",
       "  </tbody>\n",
       "</table>\n",
       "<p>230 rows × 1 columns</p>\n",
       "</div>"
      ],
      "text/plain": [
       "         orig\n",
       "0   -0.153760\n",
       "1    0.538295\n",
       "2   -0.096141\n",
       "3    0.386423\n",
       "4    0.062956\n",
       "..        ...\n",
       "225  0.587053\n",
       "226  0.299325\n",
       "227  0.166123\n",
       "228 -0.077864\n",
       "229 -0.477920\n",
       "\n",
       "[230 rows x 1 columns]"
      ]
     },
     "execution_count": 58,
     "metadata": {},
     "output_type": "execute_result"
    }
   ],
   "source": [
    "df1"
   ]
  },
  {
   "cell_type": "code",
   "execution_count": 59,
   "metadata": {},
   "outputs": [],
   "source": [
    "df1.to_pickle(\"after.pkl\")"
   ]
  },
  {
   "cell_type": "code",
   "execution_count": null,
   "metadata": {},
   "outputs": [],
   "source": []
  }
 ],
 "metadata": {
  "kernelspec": {
   "display_name": "Python 3",
   "language": "python",
   "name": "python3"
  },
  "language_info": {
   "codemirror_mode": {
    "name": "ipython",
    "version": 3
   },
   "file_extension": ".py",
   "mimetype": "text/x-python",
   "name": "python",
   "nbconvert_exporter": "python",
   "pygments_lexer": "ipython3",
   "version": "3.7.6"
  }
 },
 "nbformat": 4,
 "nbformat_minor": 2
}
